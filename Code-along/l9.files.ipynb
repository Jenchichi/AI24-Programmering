{
 "cells": [
  {
   "cell_type": "markdown",
   "metadata": {},
   "source": [
    "\n",
    "<a href=\"https://colab.research.google.com/github/kokchun/Python-course-AI22/blob/main/Lectures/L8-file-handling.ipynb\" target=\"_parent\"><img align=\"left\" src=\"https://colab.research.google.com/assets/colab-badge.svg\" alt=\"Open In Colab\"/></a> &nbsp; for interacting with the code"
   ]
  },
  {
   "cell_type": "markdown",
   "metadata": {},
   "source": [
    "---\n",
    "# Lecture notes - file handling\n",
    "\n",
    "---\n",
    "This is the lecture note for **file handling**, but it's built upon contents from previous lectures such as: \n",
    "- input-output\n",
    "- variables\n",
    "- if-statement\n",
    "- for loop\n",
    "- while \n",
    "- lists\n",
    "- random\n",
    "- strings\n",
    "- functions\n",
    "- error handling\n",
    "\n",
    "<p class = \"alert alert-info\" role=\"alert\"><b>Note</b> that this lecture note gives a brief introduction to file handling. I encourage you to read further about file handling.\n",
    "\n",
    "Read more [w3schools - file handling](https://www.w3schools.com/python/python_file_handling.asp). Learn about the different functions of file handling in this resource, but don't use it exactly as stated. Use in combination with the **with** statement to ensure safe working with files.\n",
    "\n",
    "Read more [real python - with statement](https://realpython.com/python-with-statement/)\n",
    "\n",
    "Files used is found here: [Files](https://github.com/kokchun/Programmering-med-Python-21/tree/main/Files)\n",
    "\n",
    "---"
   ]
  },
  {
   "cell_type": "markdown",
   "metadata": {},
   "source": [
    "## with statement\n",
    "- **with** statement together with **open** is used to safely open files and cleaning up the resource afterwards\n",
    "- another way is to use try..except..finally and remember to close the file, but is too verbose\n",
    "\n",
    "syntax: \n",
    "```python\n",
    "with open(path, option) as file_name: \n",
    "    statements \n",
    "    ...\n",
    "```\n",
    "option\n",
    "- \"r\" - read\n",
    "- \"a\" - append, creates the file if it doesn't exist\n",
    "- \"w\" - write - opens a file for writing, creates it if it doesn't exist\n",
    "- \"x\" - create - creates a file, error if it already exists"
   ]
  },
  {
   "cell_type": "markdown",
   "metadata": {},
   "source": [
    "---\n",
    "## Clean up quotes.txt\n",
    "\n",
    "Strategy\n",
    "- inspect the txt-file (and notice that some prankster has added random noise in form of whitespaces)\n",
    "- remove all leading and trailing whitespaces\n",
    "- remove excessive white spaces\n",
    "- add quote numbers"
   ]
  },
  {
   "cell_type": "markdown",
   "metadata": {},
   "source": [
    "---\n",
    "## Extract authors\n",
    "\n",
    "Strategy\n",
    "- check for digits to find the quotes\n",
    "- extract first name and last names\n",
    "- join them into full name \n",
    "- extract unique values"
   ]
  },
  {
   "cell_type": "markdown",
   "metadata": {},
   "source": [
    "---\n",
    "\n",
    "Kokchun Giang\n",
    "\n",
    "[LinkedIn][linkedIn_kokchun]\n",
    "\n",
    "[GitHub portfolio][github_portfolio]\n",
    "\n",
    "[linkedIn_kokchun]: https://www.linkedin.com/in/kokchungiang/\n",
    "[github_portfolio]: https://github.com/kokchun/Portfolio-Kokchun-Giang\n",
    "\n",
    "---"
   ]
  }
 ],
 "metadata": {
  "kernelspec": {
   "display_name": "Python 3.9.6 64-bit",
   "language": "python",
   "name": "python3"
  },
  "language_info": {
   "codemirror_mode": {
    "name": "ipython",
    "version": 3
   },
   "file_extension": ".py",
   "mimetype": "text/x-python",
   "name": "python",
   "nbconvert_exporter": "python",
   "pygments_lexer": "ipython3",
   "version": "3.9.6"
  },
  "orig_nbformat": 4,
  "vscode": {
   "interpreter": {
    "hash": "0da836a34428266995a795f1e1e27b816fa1c02f148d9728b3fbbbc5459afca6"
   }
  }
 },
 "nbformat": 4,
 "nbformat_minor": 2
}
