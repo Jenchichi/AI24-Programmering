{
 "cells": [
  {
   "cell_type": "code",
   "execution_count": 12,
   "metadata": {},
   "outputs": [
    {
     "name": "stdout",
     "output_type": "stream",
     "text": [
      "tv_shows[0]: Antikrundan\n",
      "tv_shows[1]: Mästerkockarna\n",
      "tv_shows[-1]: Talang\n"
     ]
    }
   ],
   "source": [
    "tv_shows = [\"Antikrundan\", \"Mästerkockarna\", \"Aktuellt\", \"Talang\"]\n",
    "print(f\"tv_shows[0]: {tv_shows[0]}\")\n",
    "print(f\"tv_shows[1]: {tv_shows[1]}\")\n",
    "\n",
    "print(f\"tv_shows[-1]: {tv_shows[-1]}\")"
   ]
  },
  {
   "cell_type": "code",
   "execution_count": 13,
   "metadata": {},
   "outputs": [
    {
     "name": "stdout",
     "output_type": "stream",
     "text": [
      "Added an element: ['Vetenskapens värld', 'Mästerkockarna', 'Aktuellt', 'Talang', 'Pokemon']\n"
     ]
    }
   ],
   "source": [
    "tv_shows[0] = \"Vetenskapens värld\"\n",
    "\n",
    "tv_shows.append(\"Pokemon\")\n",
    "\n",
    "print(f\"Added an element: {tv_shows}\")"
   ]
  },
  {
   "cell_type": "code",
   "execution_count": 14,
   "metadata": {},
   "outputs": [
    {
     "name": "stdout",
     "output_type": "stream",
     "text": [
      "['Mästerkockarna', 'Aktuellt']\n"
     ]
    }
   ],
   "source": [
    "print(tv_shows[1:3])"
   ]
  },
  {
   "cell_type": "code",
   "execution_count": 20,
   "metadata": {},
   "outputs": [
    {
     "name": "stdout",
     "output_type": "stream",
     "text": [
      "['beta', 'alfa', 'zeta', 'gamma', 'iota'] ['zeta', 'iota', 'gamma', 'beta', 'alfa']\n"
     ]
    }
   ],
   "source": [
    "greek_letters = [\"beta\", \"alfa\", \"zeta\", \"gamma\", \"iota\"]\n",
    "sort_letters = sorted(greek_letters, reverse=True)\n",
    "greek_letters.sort(reverse=True)\n",
    "print(greek_letters, sort_letters)"
   ]
  }
 ],
 "metadata": {
  "kernelspec": {
   "display_name": ".venv",
   "language": "python",
   "name": "python3"
  },
  "language_info": {
   "codemirror_mode": {
    "name": "ipython",
    "version": 3
   },
   "file_extension": ".py",
   "mimetype": "text/x-python",
   "name": "python",
   "nbconvert_exporter": "python",
   "pygments_lexer": "ipython3",
   "version": "3.12.5"
  }
 },
 "nbformat": 4,
 "nbformat_minor": 2
}
